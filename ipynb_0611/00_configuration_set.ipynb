{
 "cells": [
  {
   "cell_type": "markdown",
   "metadata": {},
   "source": [
    "## 參數設定\n",
    " - 目的\n",
    "  + 將所有全域變數變成一個JSON 統一管理\n",
    "  + 未完成"
   ]
  },
  {
   "cell_type": "code",
   "execution_count": 1,
   "metadata": {},
   "outputs": [],
   "source": [
    "# -- coding: utf-8 --"
   ]
  },
  {
   "cell_type": "code",
   "execution_count": 2,
   "metadata": {},
   "outputs": [],
   "source": [
    "import json"
   ]
  },
  {
   "cell_type": "code",
   "execution_count": 4,
   "metadata": {},
   "outputs": [],
   "source": [
    "configJSON = \"configuration.json\""
   ]
  },
  {
   "cell_type": "markdown",
   "metadata": {},
   "source": [
    "### 最初設置"
   ]
  },
  {
   "cell_type": "code",
   "execution_count": null,
   "metadata": {},
   "outputs": [],
   "source": [
    "base_url = \"https://e-service.cwb.gov.tw/HistoryDataQuery/\"\n",
    "needDataList = [\"ObsTime\", 'Temperature', 'RH', \"Precp\", \"StnPres\"]\n",
    "dayInterval = 3 #day\n",
    "webDriverLoaction = 'C:\\Program Files (x86)\\Google\\Chrome\\Application\\chromedriver.exe'"
   ]
  },
  {
   "cell_type": "markdown",
   "metadata": {},
   "source": [
    "###### 資料儲存"
   ]
  },
  {
   "cell_type": "code",
   "execution_count": 6,
   "metadata": {},
   "outputs": [],
   "source": [
    "stationDictJson = \"cityStationData.json\"\n",
    "specificWeatherDataJSON = \"SpecificWeatherData.json\"\n",
    "earthquakeDataJSON = \"earthquakeData.json\""
   ]
  },
  {
   "cell_type": "markdown",
   "metadata": {},
   "source": [
    "### 參數選取"
   ]
  },
  {
   "cell_type": "code",
   "execution_count": 8,
   "metadata": {},
   "outputs": [],
   "source": [
    "#全部資料類型\n",
    "dataList = ['ObsTime',\n",
    " 'StnPres',\n",
    " 'SeaPres',\n",
    " 'StnPresMax',\n",
    " 'StnPresMaxTime',\n",
    " 'StnPresMin',\n",
    " 'StnPresMinTime',\n",
    " 'Temperature',\n",
    " 'T Max',\n",
    " 'T Max Time',\n",
    " 'T Min',\n",
    " 'T Min Time',\n",
    " 'Td dew point',\n",
    " 'RH',\n",
    " 'RHMin',\n",
    " 'RHMinTime',\n",
    " 'WS',\n",
    " 'WD',\n",
    " 'WSGust',\n",
    " 'WDGust',\n",
    " 'WGustTime',\n",
    " 'Precp',\n",
    " 'PrecpHour',\n",
    " 'PrecpMax10',\n",
    " 'PrecpMax10Time',\n",
    " 'PrecpHrMax',\n",
    " 'PrecpHrMaxTime',\n",
    " 'SunShine',\n",
    " 'SunShineRate',\n",
    " 'GloblRad',\n",
    " 'VisbMean',\n",
    " 'EvapA']"
   ]
  },
  {
   "cell_type": "code",
   "execution_count": 9,
   "metadata": {},
   "outputs": [],
   "source": [
    "outputJSON = {\n",
    "    \"base_url\" : base_url,\n",
    "    \"needDataList\" : needDataList,\n",
    "    \"dayInterval\" : dayInterval,\n",
    "    \"stationDictJson\" : stationDictJson,\n",
    "    \"specificWeatherDataJSON\" : specificWeatherDataJSON,\n",
    "    \"webDriver\" : webDriverLoaction\n",
    "    \n",
    "    ,\n",
    "}"
   ]
  },
  {
   "cell_type": "code",
   "execution_count": null,
   "metadata": {},
   "outputs": [],
   "source": []
  }
 ],
 "metadata": {
  "kernelspec": {
   "display_name": "Python 3",
   "language": "python",
   "name": "python3"
  },
  "language_info": {
   "codemirror_mode": {
    "name": "ipython",
    "version": 3
   },
   "file_extension": ".py",
   "mimetype": "text/x-python",
   "name": "python",
   "nbconvert_exporter": "python",
   "pygments_lexer": "ipython3",
   "version": "3.5.5"
  },
  "widgets": {
   "state": {},
   "version": "1.1.2"
  }
 },
 "nbformat": 4,
 "nbformat_minor": 2
}
