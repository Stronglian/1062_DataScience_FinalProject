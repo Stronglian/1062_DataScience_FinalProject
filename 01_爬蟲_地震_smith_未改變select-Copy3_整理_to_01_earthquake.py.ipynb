{
 "cells": [
  {
   "cell_type": "markdown",
   "metadata": {},
   "source": [
    "###### LOG\n",
    " - 20180605:-STR\n",
    "  + 地震編號、月日分析\n",
    "  + 地點分析小改"
   ]
  },
  {
   "cell_type": "markdown",
   "metadata": {},
   "source": [
    "###### reference:\n",
    " - 地震中心\n",
    "  + https://scweb.cwb.gov.tw/Page.aspx?ItemId=20&loc=tw&adv=1\n",
    " - selenium button click\n",
    "  + https://pythonspot.com/selenium-click-button/"
   ]
  },
  {
   "cell_type": "code",
   "execution_count": 1,
   "metadata": {},
   "outputs": [],
   "source": [
    "from selenium import webdriver\n",
    "import time\n",
    "import json\n",
    "import pandas\n",
    "import os.path"
   ]
  },
  {
   "cell_type": "raw",
   "metadata": {},
   "source": [
    "earthquakeDataJSON = \"earthquakeData.json\""
   ]
  },
  {
   "cell_type": "raw",
   "metadata": {},
   "source": [
    "DATA_URL = 'https://scweb.cwb.gov.tw/Page.aspx?ItemId=20&loc=tw&adv=1#'"
   ]
  },
  {
   "cell_type": "raw",
   "metadata": {},
   "source": [
    "driver = webdriver.Chrome('C:\\Program Files (x86)\\Google\\Chrome\\Application\\chromedriver.exe')\n",
    "driver.get(DATA_URL)\n",
    "time.sleep(5) #等五秒，網站有點 LAG"
   ]
  },
  {
   "cell_type": "raw",
   "metadata": {},
   "source": [
    "earthquakeDataDict  = {}"
   ]
  },
  {
   "cell_type": "code",
   "execution_count": 6,
   "metadata": {},
   "outputs": [],
   "source": [
    "#select 點擊\n",
    "def multiselect_set_selections(driver, element_id, labels):\n",
    "    el = driver.find_element_by_id(element_id)\n",
    "    for option in el.find_elements_by_tag_name('option'):\n",
    "        if option.text in labels:\n",
    "            option.click()\n",
    "    return"
   ]
  },
  {
   "cell_type": "raw",
   "metadata": {},
   "source": [
    "for year_count in range (2011, 2018):\n",
    "    year = str(year_count)\n",
    "    multiselect_set_selections(driver,\"ctl03_ddlYear\",year)\n",
    "    for month_count in range (1,13):\n",
    "        multiselect_set_selections(driver,\"ctl03_ddlMonth\",str(month_count))\n",
    "        \n",
    "        el = driver.find_element_by_id('ctl03_btnSearch')\n",
    "        el.click()\n",
    "            \n",
    "        page_html = driver.page_source\n",
    "        df = pandas.read_html(page_html)\n",
    "        try:\n",
    "            monthTable = df[2]\n",
    "        except:\n",
    "            monthTable = df[1]\n",
    "        #清除標頭亂碼\n",
    "        header = []\n",
    "        monthTable.columns = monthTable.iloc[0]\n",
    "        # 重設標頭\n",
    "        earthquakeTable = monthTable.reindex(monthTable.index.drop(0))get_year\n",
    "        for i in range(1, len(earthquakeTable[\"地震編號\"])+1):\n",
    "            if earthquakeTable[\"地震編號\"][i] == \"小區域\":\n",
    "                continue\n",
    "                \n",
    "            if year not in earthquakeDataDict.keys():\n",
    "                earthquakeDataDict[year]={}\n",
    "            \n",
    "            month_split = earthquakeTable[\"臺灣時間\"][i].split('月', 1)\n",
    "            month = month_split[0]\n",
    "            day_split = month_split[1].split('日', 1)\n",
    "            day = day_split[0]\n",
    "            \n",
    "            locate = earthquakeTable[\"震央位置\"][i][:3]\n",
    "            if \"台\" in locate:\n",
    "                temp = locate.split(\"台\")\n",
    "                #print(temp)\n",
    "                locate = \"臺\"+temp[1]\n",
    "            \n",
    "            earthquakeDataDict[year][earthquakeTable[\"地震編號\"][i]]={\"date\":\"%0.2d-%s\"%(int(month), day),\n",
    "                                                       \"location\":locate,\n",
    "                                                       \"strength\":earthquakeTable[\"規模\"][i]}"
   ]
  },
  {
   "cell_type": "code",
   "execution_count": 7,
   "metadata": {},
   "outputs": [],
   "source": [
    "def Crawler_earthquakeList(year, month):\n",
    "    earthquakeDataDict = dict()\n",
    "    year = str(year)\n",
    "    month = str(month)\n",
    "    #換 網頁的年月\n",
    "    multiselect_set_selections(driver,\"ctl03_ddlYear\",year)\n",
    "    multiselect_set_selections(driver,\"ctl03_ddlMonth\",month)\n",
    "    #按\"送出\"\n",
    "    el = driver.find_element_by_id('ctl03_btnSearch')\n",
    "    el.click()\n",
    "    #撈 page\n",
    "    page_html = driver.page_source\n",
    "    df = pandas.read_html(page_html)\n",
    "    #網頁表格位置\n",
    "    try:\n",
    "        monthTable = df[2]\n",
    "    except:\n",
    "        monthTable = df[1]\n",
    "    monthTable.columns = monthTable.iloc[0]\n",
    "    # 重設標頭\n",
    "    earthquakeTable = monthTable.reindex(monthTable.index.drop(0))\n",
    "    for i in range(1, len(earthquakeTable[\"地震編號\"])+1):\n",
    "        if earthquakeTable[\"地震編號\"][i] == \"小區域\":\n",
    "            continue\n",
    "        #設定 dict 儲存空間\n",
    "        if year not in earthquakeDataDict.keys():\n",
    "            earthquakeDataDict[year]={}\n",
    "        #時間格式\n",
    "        month_split = earthquakeTable[\"臺灣時間\"][i].split('月', 1)\n",
    "        month = month_split[0]\n",
    "        day_split = month_split[1].split('日', 1)\n",
    "        day = day_split[0]\n",
    "        #位置格式, 台 -> 臺\n",
    "        locate = earthquakeTable[\"震央位置\"][i][:3]\n",
    "        if \"台\" in locate:\n",
    "            temp = locate.split(\"台\")\n",
    "            #print(temp)\n",
    "            locate = \"臺\"+temp[1]\n",
    "        # 儲存\n",
    "        earthquakeDataDict[year][earthquakeTable[\"地震編號\"][i]]={\"date\":\"%0.2d-%s\"%(int(month), day),\n",
    "                                                   \"location\":locate,\n",
    "                                                   \"strength\":earthquakeTable[\"規模\"][i]}\n",
    "    return earthquakeDataDict"
   ]
  },
  {
   "cell_type": "code",
   "execution_count": 13,
   "metadata": {},
   "outputs": [],
   "source": [
    "def updateAndSaveJSON(nameJSON, dictJSON):\n",
    "    #更新與儲存\n",
    "    if os.path.exists(nameJSON):\n",
    "        with open(nameJSON, 'r') as inputfile:\n",
    "            inputDataDict =  json.load(inputfile)\n",
    "        #更新\n",
    "        for key_i in inputDataDict.keys():\n",
    "            if key_i in dictJSON.keys():\n",
    "                inputDataDict[key_i].update(dictJSON[key_i])\n",
    "        inputDataDict.update(dictJSON)\n",
    "        #儲存\n",
    "        with open(nameJSON, 'w') as outfile:\n",
    "            json.dump(inputDataDict, outfile, sort_keys=True)\n",
    "    else:\n",
    "        with open(nameJSON, 'w') as outfile:\n",
    "            json.dump(dictJSON, outfile, sort_keys=True)\n",
    "    return"
   ]
  },
  {
   "cell_type": "markdown",
   "metadata": {},
   "source": [
    "# MAIN"
   ]
  },
  {
   "cell_type": "code",
   "execution_count": null,
   "metadata": {},
   "outputs": [],
   "source": [
    "#變數\n",
    "earthquakeDataJSON = \"earthquakeData.json\"\n",
    "DATA_URL = 'https://scweb.cwb.gov.tw/Page.aspx?ItemId=20&loc=tw&adv=1#'\n",
    "webDriverLoaction = 'C:\\Program Files (x86)\\Google\\Chrome\\Application\\chromedriver.exe'\n",
    "#開啟模擬器\n",
    "driver = webdriver.Chrome(webDriverLoaction)\n",
    "driver.get(DATA_URL)\n",
    "time.sleep(5) #等五秒，網站有點 LAG"
   ]
  },
  {
   "cell_type": "code",
   "execution_count": 8,
   "metadata": {},
   "outputs": [],
   "source": [
    "earthquakeDataDict_all = dict()\n",
    "for year in range (2011, 2017+1):\n",
    "    #設定 dict 儲存空間\n",
    "    yearStr = str(year)\n",
    "    if yearStr not in earthquakeDataDict.keys():\n",
    "        earthquakeDataDict_all[yearStr]=dict()\n",
    "    for month in range (1,13):\n",
    "        monthStr = str(month)\n",
    "        temp = Crawler_earthquakeList(yearStr, monthStr)\n",
    "        earthquakeDataDict_all[yearStr].update(temp[yearStr])"
   ]
  },
  {
   "cell_type": "raw",
   "metadata": {},
   "source": [
    "#更新與儲存\n",
    "if os.path.exists(earthquakeDataJSON):\n",
    "    with open(earthquakeDataJSON, 'r') as inputfile:\n",
    "        inputDataDict =  json.load(inputfile)\n",
    "    for key_i in inputDataDict.keys():\n",
    "        if key_i in earthquakeDataDict_all.keys():\n",
    "            inputDataDict[key_i].update(earthquakeDataDict_all[key_i])\n",
    "    inputDataDict.update(earthquakeDataDict_all)\n",
    "    with open(earthquakeDataJSON, 'w') as outfile:\n",
    "        json.dump(inputDataDict, outfile, sort_keys=True)\n",
    "else:\n",
    "    with open(earthquakeDataJSON, 'w') as outfile:\n",
    "        json.dump(earthquakeDataDict_all, outfile, sort_keys=True)"
   ]
  },
  {
   "cell_type": "code",
   "execution_count": 14,
   "metadata": {},
   "outputs": [],
   "source": [
    "updateAndSaveJSON(earthquakeDataJSON, earthquakeDataDict_all)"
   ]
  },
  {
   "cell_type": "raw",
   "metadata": {},
   "source": [
    "#更新遇到 BUG，就~\n",
    "with open(earthquakeDataJSON, 'w') as outfile:\n",
    "        json.dump(earthquakeDataDict_all, outfile, sort_keys=True)"
   ]
  },
  {
   "cell_type": "raw",
   "metadata": {},
   "source": [
    "for temp in [earthquakeNo, date, power, locate]:\n",
    "    print(len(temp))\n",
    "    print(temp)\n",
    "    \n",
    "    \n",
    "print (earthquakeNo[-1])\n",
    "print (date[-1])"
   ]
  },
  {
   "cell_type": "code",
   "execution_count": 12,
   "metadata": {},
   "outputs": [],
   "source": [
    "driver.quit() #driver.close()"
   ]
  }
 ],
 "metadata": {
  "kernelspec": {
   "display_name": "Python 3",
   "language": "python",
   "name": "python3"
  },
  "language_info": {
   "codemirror_mode": {
    "name": "ipython",
    "version": 3
   },
   "file_extension": ".py",
   "mimetype": "text/x-python",
   "name": "python",
   "nbconvert_exporter": "python",
   "pygments_lexer": "ipython3",
   "version": "3.5.5"
  },
  "widgets": {
   "state": {},
   "version": "1.1.2"
  }
 },
 "nbformat": 4,
 "nbformat_minor": 2
}
